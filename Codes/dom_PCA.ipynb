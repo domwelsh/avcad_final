{
 "cells": [
  {
   "cell_type": "code",
   "execution_count": 1,
   "metadata": {},
   "outputs": [],
   "source": [
    "import pandas as pd\n",
    "import numpy as np\n",
    "import seaborn as sns\n",
    "import matplotlib.pyplot as plt\n",
    "import scipy.stats as sts\n",
    "import statsmodels.stats as stm\n",
    "from sklearn.preprocessing import StandardScaler\n",
    "from sklearn.preprocessing import MinMaxScaler"
   ]
  },
  {
   "cell_type": "code",
   "execution_count": 2,
   "metadata": {},
   "outputs": [],
   "source": [
    "permcrop5_df = pd.read_csv('../CSVs/Permanent_Crop_NUTS5_2019.csv', sep=\",\")\n",
    "tempcrop5_df = pd.read_csv('../CSVs/Temporary_Crop_NUTS5_2019.csv', sep=\",\")\n",
    "education5_df = pd.read_csv('../CSVs/Education_NUTS5_2019.csv', sep=\",\")\n",
    "labour5_df = pd.read_csv('../CSVs/Labour_NUTS5_2019.csv', sep=\",\")\n",
    "prod5_df = pd.read_csv('../CSVs/Production_NUTS5_2019.csv', sep=\",\")"
   ]
  },
  {
   "cell_type": "code",
   "execution_count": 3,
   "metadata": {},
   "outputs": [
    {
     "data": {
      "text/html": [
       "<div>\n",
       "<style scoped>\n",
       "    .dataframe tbody tr th:only-of-type {\n",
       "        vertical-align: middle;\n",
       "    }\n",
       "\n",
       "    .dataframe tbody tr th {\n",
       "        vertical-align: top;\n",
       "    }\n",
       "\n",
       "    .dataframe thead th {\n",
       "        text-align: right;\n",
       "    }\n",
       "</style>\n",
       "<table border=\"1\" class=\"dataframe\">\n",
       "  <thead>\n",
       "    <tr style=\"text-align: right;\">\n",
       "      <th></th>\n",
       "      <th>NutsID</th>\n",
       "      <th>region_name</th>\n",
       "      <th>NUTS_level</th>\n",
       "      <th>pc.year</th>\n",
       "      <th>pc.area</th>\n",
       "      <th>pcn.crop_name</th>\n",
       "    </tr>\n",
       "  </thead>\n",
       "  <tbody>\n",
       "    <tr>\n",
       "      <th>0</th>\n",
       "      <td>111160101</td>\n",
       "      <td>Aboim das Choças</td>\n",
       "      <td>5</td>\n",
       "      <td>2019</td>\n",
       "      <td>13</td>\n",
       "      <td>Total</td>\n",
       "    </tr>\n",
       "    <tr>\n",
       "      <th>1</th>\n",
       "      <td>111160101</td>\n",
       "      <td>Aboim das Choças</td>\n",
       "      <td>5</td>\n",
       "      <td>2019</td>\n",
       "      <td>0</td>\n",
       "      <td>Fresh fruit plantations (excluding citrus plan...</td>\n",
       "    </tr>\n",
       "    <tr>\n",
       "      <th>2</th>\n",
       "      <td>111160101</td>\n",
       "      <td>Aboim das Choças</td>\n",
       "      <td>5</td>\n",
       "      <td>2019</td>\n",
       "      <td>0</td>\n",
       "      <td>Citrus plantations</td>\n",
       "    </tr>\n",
       "    <tr>\n",
       "      <th>3</th>\n",
       "      <td>111160101</td>\n",
       "      <td>Aboim das Choças</td>\n",
       "      <td>5</td>\n",
       "      <td>2019</td>\n",
       "      <td>0</td>\n",
       "      <td>Fruit plantations (subtropical climate zones)</td>\n",
       "    </tr>\n",
       "    <tr>\n",
       "      <th>4</th>\n",
       "      <td>111160101</td>\n",
       "      <td>Aboim das Choças</td>\n",
       "      <td>5</td>\n",
       "      <td>2019</td>\n",
       "      <td>0</td>\n",
       "      <td>Nuts plantations</td>\n",
       "    </tr>\n",
       "  </tbody>\n",
       "</table>\n",
       "</div>"
      ],
      "text/plain": [
       "      NutsID       region_name  NUTS_level  pc.year  pc.area  \\\n",
       "0  111160101  Aboim das Choças           5     2019       13   \n",
       "1  111160101  Aboim das Choças           5     2019        0   \n",
       "2  111160101  Aboim das Choças           5     2019        0   \n",
       "3  111160101  Aboim das Choças           5     2019        0   \n",
       "4  111160101  Aboim das Choças           5     2019        0   \n",
       "\n",
       "                                       pcn.crop_name  \n",
       "0                                              Total  \n",
       "1  Fresh fruit plantations (excluding citrus plan...  \n",
       "2                                 Citrus plantations  \n",
       "3      Fruit plantations (subtropical climate zones)  \n",
       "4                                   Nuts plantations  "
      ]
     },
     "execution_count": 3,
     "metadata": {},
     "output_type": "execute_result"
    }
   ],
   "source": [
    "permcrop5_df.head()"
   ]
  },
  {
   "cell_type": "code",
   "execution_count": 4,
   "metadata": {},
   "outputs": [
    {
     "data": {
      "text/html": [
       "<div>\n",
       "<style scoped>\n",
       "    .dataframe tbody tr th:only-of-type {\n",
       "        vertical-align: middle;\n",
       "    }\n",
       "\n",
       "    .dataframe tbody tr th {\n",
       "        vertical-align: top;\n",
       "    }\n",
       "\n",
       "    .dataframe thead th {\n",
       "        text-align: right;\n",
       "    }\n",
       "</style>\n",
       "<table border=\"1\" class=\"dataframe\">\n",
       "  <thead>\n",
       "    <tr style=\"text-align: right;\">\n",
       "      <th></th>\n",
       "      <th>NutsID</th>\n",
       "      <th>region_name</th>\n",
       "      <th>NUTS_level</th>\n",
       "      <th>p.year</th>\n",
       "      <th>p.value_eur</th>\n",
       "      <th>p.area_ha</th>\n",
       "    </tr>\n",
       "  </thead>\n",
       "  <tbody>\n",
       "    <tr>\n",
       "      <th>0</th>\n",
       "      <td>111160101</td>\n",
       "      <td>Aboim das Choças</td>\n",
       "      <td>5</td>\n",
       "      <td>2019</td>\n",
       "      <td>101072</td>\n",
       "      <td>1921.9</td>\n",
       "    </tr>\n",
       "    <tr>\n",
       "      <th>1</th>\n",
       "      <td>111160102</td>\n",
       "      <td>Aguiã</td>\n",
       "      <td>5</td>\n",
       "      <td>2019</td>\n",
       "      <td>156561</td>\n",
       "      <td>1642.8</td>\n",
       "    </tr>\n",
       "    <tr>\n",
       "      <th>2</th>\n",
       "      <td>111160104</td>\n",
       "      <td>Ázere</td>\n",
       "      <td>5</td>\n",
       "      <td>2019</td>\n",
       "      <td>140132</td>\n",
       "      <td>2428.6</td>\n",
       "    </tr>\n",
       "    <tr>\n",
       "      <th>3</th>\n",
       "      <td>111160105</td>\n",
       "      <td>Cabana Maior</td>\n",
       "      <td>5</td>\n",
       "      <td>2019</td>\n",
       "      <td>189450</td>\n",
       "      <td>152.7</td>\n",
       "    </tr>\n",
       "    <tr>\n",
       "      <th>4</th>\n",
       "      <td>111160106</td>\n",
       "      <td>Cabreiro</td>\n",
       "      <td>5</td>\n",
       "      <td>2019</td>\n",
       "      <td>612235</td>\n",
       "      <td>221.4</td>\n",
       "    </tr>\n",
       "  </tbody>\n",
       "</table>\n",
       "</div>"
      ],
      "text/plain": [
       "      NutsID       region_name  NUTS_level  p.year  p.value_eur  p.area_ha\n",
       "0  111160101  Aboim das Choças           5    2019       101072     1921.9\n",
       "1  111160102             Aguiã           5    2019       156561     1642.8\n",
       "2  111160104             Ázere           5    2019       140132     2428.6\n",
       "3  111160105      Cabana Maior           5    2019       189450      152.7\n",
       "4  111160106          Cabreiro           5    2019       612235      221.4"
      ]
     },
     "execution_count": 4,
     "metadata": {},
     "output_type": "execute_result"
    }
   ],
   "source": [
    "prod5_df.head()"
   ]
  },
  {
   "cell_type": "code",
   "execution_count": 5,
   "metadata": {},
   "outputs": [
    {
     "name": "stdout",
     "output_type": "stream",
     "text": [
      "      NutsID       region_name  NUTS_level  pc.year  pc.area  \\\n",
      "0  111160101  Aboim das Choças           5     2019       13   \n",
      "1  111160101  Aboim das Choças           5     2019        0   \n",
      "2  111160101  Aboim das Choças           5     2019        0   \n",
      "3  111160101  Aboim das Choças           5     2019        0   \n",
      "4  111160101  Aboim das Choças           5     2019        0   \n",
      "\n",
      "                                       pcn.crop_name NUTS2_region  \n",
      "0                                              Total        Norte  \n",
      "1  Fresh fruit plantations (excluding citrus plan...        Norte  \n",
      "2                                 Citrus plantations        Norte  \n",
      "3      Fruit plantations (subtropical climate zones)        Norte  \n",
      "4                                   Nuts plantations        Norte  \n",
      "      NutsID       region_name  NUTS_level  tc.year  tc.area  tc.hold  \\\n",
      "0  111160101  Aboim das Choças           5     2019       12       20   \n",
      "1  111160101  Aboim das Choças           5     2019        6       19   \n",
      "2  111160101  Aboim das Choças           5     2019        0        1   \n",
      "3  111160101  Aboim das Choças           5     2019        0        0   \n",
      "4  111160101  Aboim das Choças           5     2019        5        7   \n",
      "\n",
      "                    tcn.crop_name NUTS2_region  \n",
      "0                           Total        Norte  \n",
      "1                         Cereals        Norte  \n",
      "2                    Dried pulses        Norte  \n",
      "3  Temporary grasses and grazings        Norte  \n",
      "4                   Fodder plants        Norte  \n",
      "      NutsID       region_name  NUTS_level  e.year  e.value  \\\n",
      "0  111160101  Aboim das Choças           5    2019       94   \n",
      "1  111160102             Aguiã           5    2019       99   \n",
      "2  111160104             Ázere           5    2019       68   \n",
      "3  111160105      Cabana Maior           5    2019       63   \n",
      "4  111160106          Cabreiro           5    2019      204   \n",
      "\n",
      "  el.education_level NUTS2_region  \n",
      "0              Total        Norte  \n",
      "1              Total        Norte  \n",
      "2              Total        Norte  \n",
      "3              Total        Norte  \n",
      "4              Total        Norte  \n",
      "      NutsID       region_name  NUTS_level  l.year  l.value  \\\n",
      "0  111160101  Aboim das Choças           5    2019       35   \n",
      "1  111160101  Aboim das Choças           5    2019       34   \n",
      "2  111160101  Aboim das Choças           5    2019       15   \n",
      "3  111160101  Aboim das Choças           5    2019       13   \n",
      "4  111160101  Aboim das Choças           5    2019        6   \n",
      "\n",
      "                     ltn.type_labour NUTS2_region  \n",
      "0  Total labour force in agriculture        Norte  \n",
      "1                Family labour force        Norte  \n",
      "2                             Holder        Norte  \n",
      "3                             Spouse        Norte  \n",
      "4               Other family members        Norte  \n",
      "      NutsID       region_name  NUTS_level  p.year  p.value_eur  p.area_ha  \\\n",
      "0  111160101  Aboim das Choças           5    2019       101072     1921.9   \n",
      "1  111160102             Aguiã           5    2019       156561     1642.8   \n",
      "2  111160104             Ázere           5    2019       140132     2428.6   \n",
      "3  111160105      Cabana Maior           5    2019       189450      152.7   \n",
      "4  111160106          Cabreiro           5    2019       612235      221.4   \n",
      "\n",
      "  NUTS2_region  \n",
      "0        Norte  \n",
      "1        Norte  \n",
      "2        Norte  \n",
      "3        Norte  \n",
      "4        Norte  \n"
     ]
    }
   ],
   "source": [
    "all_dfs = [permcrop5_df, tempcrop5_df, education5_df, labour5_df, prod5_df]\n",
    "\n",
    "def map_value(value):\n",
    "    digits = str(value)[:2]\n",
    "    if digits == '11':\n",
    "        return 'Norte'\n",
    "    elif digits == '15':\n",
    "        return 'Algarve'\n",
    "    elif digits == '16':\n",
    "        return 'Centro'\n",
    "    elif digits == '17':\n",
    "        return 'Lisboa'\n",
    "    elif digits == '18':\n",
    "        return 'Alentejo'\n",
    "    elif digits == '20':\n",
    "        return 'Açores'\n",
    "    elif digits == '30':\n",
    "        return 'Madeira'\n",
    "    else:\n",
    "        return '-'\n",
    "\n",
    "for df in all_dfs:\n",
    "    df['NUTS2_region'] = df['NutsID'].apply(map_value)\n",
    "    print(df.head())"
   ]
  },
  {
   "cell_type": "code",
   "execution_count": 7,
   "metadata": {},
   "outputs": [
    {
     "data": {
      "text/plain": [
       "array(['Norte', 'Algarve', 'Centro', 'Lisboa', 'Alentejo', 'Açores',\n",
       "       'Madeira'], dtype=object)"
      ]
     },
     "execution_count": 7,
     "metadata": {},
     "output_type": "execute_result"
    }
   ],
   "source": [
    "prod5_df['NUTS2_region'].unique()"
   ]
  },
  {
   "cell_type": "markdown",
   "metadata": {},
   "source": [
    "# Education"
   ]
  },
  {
   "cell_type": "code",
   "execution_count": null,
   "metadata": {},
   "outputs": [],
   "source": [
    "education5_df.head()"
   ]
  },
  {
   "cell_type": "code",
   "execution_count": null,
   "metadata": {},
   "outputs": [],
   "source": [
    "education5_df['el.education_level'].fillna('None', inplace=True)"
   ]
  },
  {
   "cell_type": "code",
   "execution_count": null,
   "metadata": {},
   "outputs": [],
   "source": [
    "ed_no_totals = education5_df[education5_df['el.education_level'] != 'Total']\n",
    "ed_totals = education5_df[education5_df['el.education_level'] == 'Total']"
   ]
  },
  {
   "cell_type": "code",
   "execution_count": null,
   "metadata": {},
   "outputs": [],
   "source": [
    "ed_no_totals['total_count'] = ed_no_totals.groupby('region_name')['el.education_level'].transform('count')"
   ]
  },
  {
   "cell_type": "code",
   "execution_count": null,
   "metadata": {},
   "outputs": [],
   "source": [
    "ed_totals.head()"
   ]
  }
 ],
 "metadata": {
  "kernelspec": {
   "display_name": "Python 3",
   "language": "python",
   "name": "python3"
  },
  "language_info": {
   "codemirror_mode": {
    "name": "ipython",
    "version": 3
   },
   "file_extension": ".py",
   "mimetype": "text/x-python",
   "name": "python",
   "nbconvert_exporter": "python",
   "pygments_lexer": "ipython3",
   "version": "3.12.0"
  }
 },
 "nbformat": 4,
 "nbformat_minor": 2
}
