{
  "cells": [
    {
      "cell_type": "markdown",
      "metadata": {
        "id": "view-in-github",
        "colab_type": "text"
      },
      "source": [
        "<a href=\"https://colab.research.google.com/github/domwelsh/avcad_final/blob/main/notebooks/Preparation_for_identification_model/Images_preparation.ipynb\" target=\"_parent\"><img src=\"https://colab.research.google.com/assets/colab-badge.svg\" alt=\"Open In Colab\"/></a>"
      ]
    },
    {
      "cell_type": "markdown",
      "metadata": {
        "id": "i-EAYbrXdqWV"
      },
      "source": [
        "# Process for PlanetScope Image Download\n",
        "\n",
        "### Considerations:\n",
        "\n",
        "1. The image was already downloaded from the PlanetScope repository and uploaded to Google Cloud Earth Engine Asset.\n",
        "2. This was done to avoid the high time in calculating the indexes; it is more efficient to do this using geemap and/or Python.\n",
        "\n",
        "### Index\n",
        "\n"
      ]
    },
    {
      "cell_type": "code",
      "execution_count": null,
      "metadata": {
        "id": "3Dl57i_RdqWV"
      },
      "outputs": [],
      "source": [
        "# Import the libraries\n",
        "import geemap\n",
        "import ee"
      ]
    },
    {
      "cell_type": "code",
      "execution_count": null,
      "metadata": {
        "id": "S_mSl_zpdqWW",
        "outputId": "e848769b-78c6-463e-ad3f-35fd23dceede"
      },
      "outputs": [
        {
          "data": {
            "text/html": [
              "\n",
              "            <style>\n",
              "                .geemap-dark {\n",
              "                    --jp-widgets-color: white;\n",
              "                    --jp-widgets-label-color: white;\n",
              "                    --jp-ui-font-color1: white;\n",
              "                    --jp-layout-color2: #454545;\n",
              "                    background-color: #383838;\n",
              "                }\n",
              "\n",
              "                .geemap-dark .jupyter-button {\n",
              "                    --jp-layout-color3: #383838;\n",
              "                }\n",
              "\n",
              "                .geemap-colab {\n",
              "                    background-color: var(--colab-primary-surface-color, white);\n",
              "                }\n",
              "\n",
              "                .geemap-colab .jupyter-button {\n",
              "                    --jp-layout-color3: var(--colab-primary-surface-color, white);\n",
              "                }\n",
              "            </style>\n",
              "            "
            ],
            "text/plain": [
              "<IPython.core.display.HTML object>"
            ]
          },
          "metadata": {},
          "output_type": "display_data"
        },
        {
          "data": {
            "text/html": [
              "<p>To authorize access needed by Earth Engine, open the following\n",
              "        URL in a web browser and follow the instructions:</p>\n",
              "        <p><a href=https://code.earthengine.google.com/client-auth?scopes=https%3A//www.googleapis.com/auth/earthengine%20https%3A//www.googleapis.com/auth/cloud-platform%20https%3A//www.googleapis.com/auth/devstorage.full_control&request_id=10gvokosOaXalNkDsx44ihlwXnoqwZWb4_TxnzrGI54&tc=_Hwdg4tMBT7q-DXfuVcBDrOpEm14aomU1lvth6bzSBE&cc=Rz3OXVLWH9ks7Xj5qABqrsCxNSW7tOWF6G0vBAqACx4>https://code.earthengine.google.com/client-auth?scopes=https%3A//www.googleapis.com/auth/earthengine%20https%3A//www.googleapis.com/auth/cloud-platform%20https%3A//www.googleapis.com/auth/devstorage.full_control&request_id=10gvokosOaXalNkDsx44ihlwXnoqwZWb4_TxnzrGI54&tc=_Hwdg4tMBT7q-DXfuVcBDrOpEm14aomU1lvth6bzSBE&cc=Rz3OXVLWH9ks7Xj5qABqrsCxNSW7tOWF6G0vBAqACx4</a></p>\n",
              "        <p>The authorization workflow will generate a code, which you should paste in the box below.</p>\n",
              "        "
            ],
            "text/plain": [
              "<IPython.core.display.HTML object>"
            ]
          },
          "metadata": {},
          "output_type": "display_data"
        },
        {
          "name": "stdout",
          "output_type": "stream",
          "text": [
            "\n",
            "Successfully saved authorization token.\n"
          ]
        }
      ],
      "source": [
        "# Authenticate your GEE account\n",
        "ee.Authenticate()"
      ]
    },
    {
      "cell_type": "code",
      "execution_count": null,
      "metadata": {
        "id": "n4VVVZWvdqWW",
        "outputId": "a2e968a7-e031-4f25-8089-d38b9cb2ba48"
      },
      "outputs": [
        {
          "data": {
            "text/html": [
              "\n",
              "            <style>\n",
              "                .geemap-dark {\n",
              "                    --jp-widgets-color: white;\n",
              "                    --jp-widgets-label-color: white;\n",
              "                    --jp-ui-font-color1: white;\n",
              "                    --jp-layout-color2: #454545;\n",
              "                    background-color: #383838;\n",
              "                }\n",
              "\n",
              "                .geemap-dark .jupyter-button {\n",
              "                    --jp-layout-color3: #383838;\n",
              "                }\n",
              "\n",
              "                .geemap-colab {\n",
              "                    background-color: var(--colab-primary-surface-color, white);\n",
              "                }\n",
              "\n",
              "                .geemap-colab .jupyter-button {\n",
              "                    --jp-layout-color3: var(--colab-primary-surface-color, white);\n",
              "                }\n",
              "            </style>\n",
              "            "
            ],
            "text/plain": [
              "<IPython.core.display.HTML object>"
            ]
          },
          "metadata": {},
          "output_type": "display_data"
        },
        {
          "name": "stderr",
          "output_type": "stream",
          "text": [
            "*** Earth Engine *** Share your feedback by taking our Annual Developer Satisfaction Survey: https://google.qualtrics.com/jfe/form/SV_0JLhFqfSY1uiEaW?source=Init\n"
          ]
        }
      ],
      "source": [
        "# This step is relevant for could run the project.py file\n",
        "# Importar librerias al entorno\n",
        "import ee\n",
        "\n",
        "# Iniciar Sesión en GEE (si les da un error incluso pegando el link de autenticación hay que conectar GEE con Google Cloud)\n",
        "ee.Authenticate()\n",
        "ee.Initialize()"
      ]
    },
    {
      "cell_type": "code",
      "execution_count": null,
      "metadata": {
        "id": "szJ7JLyfdqWX",
        "outputId": "8be9f8cb-3fb1-4907-cfaf-a3165c927388",
        "colab": {
          "referenced_widgets": [
            "8925926b85834aa3b9f026d65733661a"
          ]
        }
      },
      "outputs": [
        {
          "data": {
            "text/html": [
              "\n",
              "            <style>\n",
              "                .geemap-dark {\n",
              "                    --jp-widgets-color: white;\n",
              "                    --jp-widgets-label-color: white;\n",
              "                    --jp-ui-font-color1: white;\n",
              "                    --jp-layout-color2: #454545;\n",
              "                    background-color: #383838;\n",
              "                }\n",
              "\n",
              "                .geemap-dark .jupyter-button {\n",
              "                    --jp-layout-color3: #383838;\n",
              "                }\n",
              "\n",
              "                .geemap-colab {\n",
              "                    background-color: var(--colab-primary-surface-color, white);\n",
              "                }\n",
              "\n",
              "                .geemap-colab .jupyter-button {\n",
              "                    --jp-layout-color3: var(--colab-primary-surface-color, white);\n",
              "                }\n",
              "            </style>\n",
              "            "
            ],
            "text/plain": [
              "<IPython.core.display.HTML object>"
            ]
          },
          "metadata": {},
          "output_type": "display_data"
        },
        {
          "data": {
            "application/vnd.jupyter.widget-view+json": {
              "model_id": "8925926b85834aa3b9f026d65733661a",
              "version_major": 2,
              "version_minor": 0
            },
            "text/plain": [
              "Map(center=[39.22, -8.97], controls=(WidgetControl(options=['position', 'transparent_bg'], widget=SearchDataGU…"
            ]
          },
          "metadata": {},
          "output_type": "display_data"
        }
      ],
      "source": [
        "# Add a map to display the image and index\n",
        "Map = geemap.Map(center = (39.22, -8.97), zoom = 6)\n",
        "Map"
      ]
    },
    {
      "cell_type": "code",
      "execution_count": null,
      "metadata": {
        "id": "mEsjpjt7dqWX"
      },
      "outputs": [],
      "source": [
        "Map.user_roi.getInfo()\n",
        "#Define the geometry of the study area\n",
        "geometry = Map.user_roi"
      ]
    },
    {
      "cell_type": "code",
      "execution_count": null,
      "metadata": {
        "id": "mBb2O4bvdqWX",
        "outputId": "746d7d72-7e55-4042-cea5-ae87483094ed"
      },
      "outputs": [
        {
          "data": {
            "text/html": [
              "\n",
              "            <style>\n",
              "                .geemap-dark {\n",
              "                    --jp-widgets-color: white;\n",
              "                    --jp-widgets-label-color: white;\n",
              "                    --jp-ui-font-color1: white;\n",
              "                    --jp-layout-color2: #454545;\n",
              "                    background-color: #383838;\n",
              "                }\n",
              "\n",
              "                .geemap-dark .jupyter-button {\n",
              "                    --jp-layout-color3: #383838;\n",
              "                }\n",
              "\n",
              "                .geemap-colab {\n",
              "                    background-color: var(--colab-primary-surface-color, white);\n",
              "                }\n",
              "\n",
              "                .geemap-colab .jupyter-button {\n",
              "                    --jp-layout-color3: var(--colab-primary-surface-color, white);\n",
              "                }\n",
              "            </style>\n",
              "            "
            ],
            "text/plain": [
              "<IPython.core.display.HTML object>"
            ]
          },
          "metadata": {},
          "output_type": "display_data"
        },
        {
          "data": {
            "text/plain": [
              "{'type': 'Point', 'coordinates': [-8.607292, 38.134876]}"
            ]
          },
          "metadata": {},
          "output_type": "display_data"
        }
      ],
      "source": [
        "Map.user_roi.getInfo()"
      ]
    },
    {
      "cell_type": "markdown",
      "metadata": {
        "id": "KzAyGtNkdqWX"
      },
      "source": [
        "## The points of each downloaded area are:\n",
        "1. Quercus_1: geometry = ee.Geometry.Point([-8.796394, 39.205319])\n",
        "2. Quercus_2: geometry = ee.Geometry.Point([-8.82684, 38.964544])\n",
        "3. Quercus_3: geometry = ee.Geometry.Point([-9.130675, 38.625997])\n",
        "4. Quercus_4: geometry = ee.Geometry.Point([-7.688382, 38.655686])\n",
        "5. Quercus_5: geometry = ee.Geometry.Point([-8.515074, 38.333295])\n",
        "6. Quercus_6: geometry = ee.Geometry.Point([-8.548938, 38.175632])\n",
        "7. Quercus_7: geometry = ee.Geometry.Point([-8.727648, 38.118924])\n",
        "8. Quercus_8: geometry = ee.Geometry.Point([-8.73125, 38.092178])\n",
        "9. Quercus_9: geometry = ee.Geometry.Point([-8.510705, 37.186572])\n",
        "10. Quercus_10: geometry = ee.Geometry.Point([-8.691703, 37.92617])\n",
        "11. Quercus_11: geometry = ee.Geometry.Point([-8.607292, 38.134876])"
      ]
    },
    {
      "cell_type": "code",
      "execution_count": null,
      "metadata": {
        "id": "KvVTcOYHdqWX",
        "outputId": "b58c887e-192d-468c-a82a-169fa2cab8b7"
      },
      "outputs": [
        {
          "data": {
            "text/html": [
              "\n",
              "            <style>\n",
              "                .geemap-dark {\n",
              "                    --jp-widgets-color: white;\n",
              "                    --jp-widgets-label-color: white;\n",
              "                    --jp-ui-font-color1: white;\n",
              "                    --jp-layout-color2: #454545;\n",
              "                    background-color: #383838;\n",
              "                }\n",
              "\n",
              "                .geemap-dark .jupyter-button {\n",
              "                    --jp-layout-color3: #383838;\n",
              "                }\n",
              "\n",
              "                .geemap-colab {\n",
              "                    background-color: var(--colab-primary-surface-color, white);\n",
              "                }\n",
              "\n",
              "                .geemap-colab .jupyter-button {\n",
              "                    --jp-layout-color3: var(--colab-primary-surface-color, white);\n",
              "                }\n",
              "            </style>\n",
              "            "
            ],
            "text/plain": [
              "<IPython.core.display.HTML object>"
            ]
          },
          "metadata": {},
          "output_type": "display_data"
        }
      ],
      "source": [
        "# Asegurarnos de la creación de una geometría / Por si no la crearon en el mapa anterior.\n",
        "geometry = ee.Geometry.Point([-8.607292, 38.134876])\n"
      ]
    },
    {
      "cell_type": "code",
      "execution_count": null,
      "metadata": {
        "id": "NUqU0Ls4dqWX",
        "outputId": "98148e8d-668d-44d9-b1cb-9cb19d090079"
      },
      "outputs": [
        {
          "data": {
            "text/html": [
              "\n",
              "            <style>\n",
              "                .geemap-dark {\n",
              "                    --jp-widgets-color: white;\n",
              "                    --jp-widgets-label-color: white;\n",
              "                    --jp-ui-font-color1: white;\n",
              "                    --jp-layout-color2: #454545;\n",
              "                    background-color: #383838;\n",
              "                }\n",
              "\n",
              "                .geemap-dark .jupyter-button {\n",
              "                    --jp-layout-color3: #383838;\n",
              "                }\n",
              "\n",
              "                .geemap-colab {\n",
              "                    background-color: var(--colab-primary-surface-color, white);\n",
              "                }\n",
              "\n",
              "                .geemap-colab .jupyter-button {\n",
              "                    --jp-layout-color3: var(--colab-primary-surface-color, white);\n",
              "                }\n",
              "            </style>\n",
              "            "
            ],
            "text/plain": [
              "<IPython.core.display.HTML object>"
            ]
          },
          "metadata": {},
          "output_type": "display_data"
        }
      ],
      "source": [
        "# Call the image collection\n",
        "collection = ee.ImageCollection(\"projects/ee-jesusc461/assets/Planet_quercus/Quercus_11\")\n",
        "\n",
        "# Filter by date (in this case is the same month of soil sampling)\n",
        "collection = collection.filterDate('2023-05-01', '2024-05-31').filterBounds(geometry)\n",
        "\n",
        "# This function maps spectral indices for salinity Mapping using PlanetScope Imagery\n",
        "def addIndices(img):\n",
        "    # NDVI\n",
        "    NDVI = img.normalizedDifference(['nir', 'red']).rename('NDVI')\n",
        "\n",
        "    # SR (Simple Ratio)\n",
        "    SR = img.select('nir').divide(img.select('red')).rename('SR')\n",
        "\n",
        "    # GCVI (Green Chlorophyll Vegetation Index)\n",
        "    GCVI = img.expression('(NIR / GREEN) - 1', {'NIR': img.select('nir'), 'GREEN': img.select('green')}).rename('GCVI')\n",
        "\n",
        "    # NDWI (Normalized Difference Water Index)\n",
        "    NDWI = img.expression('(GREEN - NIR) / (GREEN + NIR)', {'NIR': img.select('nir'), 'GREEN': img.select('green')}).rename('NDWI')\n",
        "\n",
        "    # VARI (Visible Atmospherically Resistant Index)\n",
        "    VARI = img.expression('(Green - Red) / (Green + Red - Blue)', {'Blue': img.select('blue'), 'Red': img.select('red'), 'Green': img.select('green')}).rename('VARI')\n",
        "\n",
        "    # GRVI (Green Ratio Vegetation Index)\n",
        "    GRVI = img.expression('(NIR / GREEN)', {'NIR': img.select('nir'), 'GREEN': img.select('green')}).rename('GRVI')\n",
        "\n",
        "    # GNDVI (Green Normalized Difference Vegetation Index)\n",
        "    GNDVI = img.normalizedDifference(['nir', 'green']).rename('GNDVI')\n",
        "\n",
        "    # SAVI (Soil Adjusted Vegetation Index)\n",
        "    SAVI = img.expression('(NIR - RED) / ((NIR + RED + 0.5) * 1.5)', {'NIR': img.select('nir'), 'RED': img.select('red')}).rename('SAVI')\n",
        "\n",
        "    # ARVI (Atmospherically Resistant Vegetation Index)\n",
        "    ARVI = img.expression(\n",
        "        '(NIR - (RED - 1.0 * (RED - BLUE))) / (NIR + (RED - 1.0 * (RED - BLUE)))',\n",
        "        {'NIR': img.select('nir'), 'RED': img.select('red'), 'BLUE': img.select('blue')}\n",
        "    ).rename('ARVI')\n",
        "\n",
        "    # EVI (Enhanced Vegetation Index)\n",
        "    EVI = img.expression(\n",
        "        '2.5 * ((NIR - RED) / (NIR + 6.0 * RED - 7.5 * BLUE + 1.0))',\n",
        "        {'NIR': img.select('nir'), 'RED': img.select('red'), 'BLUE': img.select('blue')}\n",
        "    ).rename('EVI')\n",
        "\n",
        "    # DVI (Difference Vegetation Index)\n",
        "    DVI = img.expression('NIR - RED', {'NIR': img.select('nir'), 'RED': img.select('red')}).rename('DVI')\n",
        "\n",
        "    return img.addBands([NDVI, SR, GCVI, NDWI, VARI, GRVI, GNDVI, SAVI, ARVI, EVI, DVI])\n",
        "\n",
        "# Example usage\n",
        "ps = collection\n",
        "#Add the indices\n",
        "ps = ps.map(addIndices)\n",
        "composite = ps \\\n",
        "              .mean()\n",
        "\n",
        "Map.addLayer(composite, {'bands': ['red',  'green',  'blue'], 'min': 201, 'max': 2464}, 'RGB')"
      ]
    }
  ],
  "metadata": {
    "kernelspec": {
      "display_name": "base",
      "language": "python",
      "name": "python3"
    },
    "language_info": {
      "codemirror_mode": {
        "name": "ipython",
        "version": 3
      },
      "file_extension": ".py",
      "mimetype": "text/x-python",
      "name": "python",
      "nbconvert_exporter": "python",
      "pygments_lexer": "ipython3",
      "version": "3.11.7"
    },
    "colab": {
      "provenance": [],
      "include_colab_link": true
    }
  },
  "nbformat": 4,
  "nbformat_minor": 0
}